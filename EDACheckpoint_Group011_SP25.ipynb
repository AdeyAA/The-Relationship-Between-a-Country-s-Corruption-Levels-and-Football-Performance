{
 "cells": [
  {
   "cell_type": "markdown",
   "metadata": {},
   "source": [
    "**If you lost points on the last checkpoint you can get them back by responding to TA/IA feedback**  \n",
    "\n",
    "Update/change the relevant sections where you lost those points, make sure you respond on GitHub Issues to your TA/IA to call their attention to the changes you made here.\n",
    "\n",
    "Please update your Timeline... no battle plan survives contact with the enemy, so make sure we understand how your plans have changed."
   ]
  },
  {
   "cell_type": "markdown",
   "metadata": {},
   "source": [
    "# COGS 108 - EDA Checkpoint"
   ]
  },
  {
   "cell_type": "markdown",
   "metadata": {},
   "source": [
    "# Names\n",
    "\n",
    "- Adey Ali\n",
    "- Makeil Ali\n",
    "- Ayat Alwazir\n",
    "- Asaki Billawala\n",
    "- Mohammed Zaid"
   ]
  },
  {
   "cell_type": "markdown",
   "metadata": {},
   "source": [
    "# Research Question"
   ]
  },
  {
   "cell_type": "markdown",
   "metadata": {},
   "source": [
    "To what extent does political corruption–defined as the abuse of power for private gain and measured by Corruption Perceptions Index and Press Freedom Index–impact the long-term performance of national football teams in international tournaments as measured by FIFA World Rankings progression over years? Furthermore, how does institutional strength correlate with sustained competitive success when accounting for economic factors like GDP per capita?"
   ]
  },
  {
   "cell_type": "markdown",
   "metadata": {},
   "source": [
    "## Background and Prior Work"
   ]
  },
  {
   "cell_type": "markdown",
   "metadata": {},
   "source": [
    "The participation of a national team in international competitions evoke a sense of unity and national pride among its citizens. As one of the most widely followed global sports with audiences in the billions,<a name=\"cite_ref-1\"></a>[<sup>1</sup>](#cite_note-1) football serves as a prominent platform through which these sentiments are reinforced and expressed. Major tournaments such as FIFA World Cup and regional tournaments like the UEFA European Championship or the Copa America become a major platform for nations to broadcast their athletic capacities, reaffirm their collective identity and establish their international standing. On the world stage, international and national reputation is at stake, making football more of a symbolic representation of a country’s strength. Given the symbolic weight that international football carries, it is no surprise that governments invest heavily in football for reputation’s sake. In our analysis we hope to explore how corruption perceptions–determined by Corruption Perceptions Index (CPI), press freedom index (PFI)–may impact football performance outcomes like the FIFA World rankings and World Cup appearances. We will use Press Freedom Index to measure social factors, Corruption Perception index to measure political factors, and a global dataset of GDP per capita to measure economic factors against FIFA world rankings to measure national team strength.\n",
    "\n",
    "\n",
    "A recent analysis done by The University of Chicago Press Journal, introduces the term sportswashing.<a name=\"cite_ref-2\"></a>[<sup>2</sup>](#cite_note-2) Sportswashing is the process by which countries use sports-especially international events-to improve negative public perceptions often associated with a government’s abuses of human rights. In their case study of Qatar hosting the 2022 FIFA World Cup, they sought to find the viability of sportswashing. Their research suggests that hosting events such as the world cup “led to a more favorable view of the Arab world” but did little to directly improve Qatar’s image. This research is highly relevant to our research as it highlights the political motivations behind a country’s involvement in sports. Similarly a report done by the Human Rights Foundation, delves into the mechanisms through which authoritarian regimes utilize international sports to improve reputation and divert attention from negative press.<a name=\"cite_ref-3\"></a>[<sup>3</sup>](#cite_note-3)\n",
    "\n",
    "\n",
    "A recent empirical study published investigated the correlation between funding and performance success among European football clubs. This paper analyzed 59 European football companies over the 2013-2018 time span and found a significant positive correlation between financial performance and the success of the club.<a name=\"cite_ref-4\"></a>[<sup>4</sup>](#cite_note-4) This provides valuable insight into the influence finance has on sport performance. Our research hopes to build upon these findings to see how factors such as funding intersect with corruption and performance success.\n",
    "While these reports provide valuable insight of the use of “sportswashing” by autocratic regimes, neither explicitly test the whether the corruption level of a country directly translates to a better overall performance in international football. Prior work informs the political context of our study but does not directly address our question: does political corruption influence the development of national football teams\n",
    "\n",
    "\n",
    "References:\n",
    "1. <a name=\"cite_note-1\"></a> [^](#cite_ref-1) Library of Congress. (n.d.). Soccer: Sports industry resources. Retrieved April 29, 2025, from https://guides.loc.gov/sports-industry/soccer\n",
    "2. <a name=\"cite_note-2\"></a> [^](#cite_ref-2) Reiche, D. (2023). Authoritarian regimes and international sport: The politics of sportswashing. Journal of Political Institutions and Political Economy, 4(2), 147–172. https://www.journals.uchicago.edu/doi/full/10.1086/730728\n",
    "3. <a name=\"cite_note-3\"></a> [^](#cite_ref-3) Human Rights Foundation. (2023). Igniting the truth against authoritarian sportswashing. Retrieved from https://hrf.org/latest/ igniting-the-truth-against-authoritarian-sportswashing/\n",
    "4. <a name=\"cite_note-4\"></a> [^](#cite_ref-4) Simone, Luca Di. Zanardi, Davide (2021). Sport and finance: Is there a correlation between financial and sporting performance? Evidence from European football. Managerial  Finance, https://www.emerald.com/insight/content/doi/10.1108/mf-09-2020-0478/full/html"
   ]
  },
  {
   "cell_type": "markdown",
   "metadata": {},
   "source": [
    "# Hypothesis\n"
   ]
  },
  {
   "cell_type": "markdown",
   "metadata": {},
   "source": [
    "We hypothesize that countries with higher levels of political corruption–lower CPI score and smaller PFI score– can have a very high international football performance to improve their image. Countries with low corruption levels show consistent success or improvement over time.\n",
    "\n",
    "### Explanation of Hypothesis\n",
    "\n",
    "We hypothesize this trend for countries with high levels of corruption to allocate their minimal funds (measured by GDP) to their entertainment sector rather than towards the improvement of the public sector and current national welfare. We believe this is true because, as sportswashing suggests, governments use high-profile entertainment events to divert public attention away from human rights abuses. Countries with lower corruption can maintain a steady rank because they have the ability to consistently fund their national football teams."
   ]
  },
  {
   "cell_type": "markdown",
   "metadata": {},
   "source": [
    "# Data"
   ]
  },
  {
   "cell_type": "markdown",
   "metadata": {},
   "source": [
    "## Data overview\n",
    "\n",
    "We all got our datasets from the sites below and made csv files from them. We opened them in google sheets to make them into shareable webs for reading with pandas. After reading them into jupyter, we cleaned they data by removing any columns with unecessary information and reshaping the data to be in a more readable format. We also reindexed it so that the countries are on the left hand side and the years describe the columns.\n",
    "\n",
    "- Press Freedom Index\n",
    "  - Dataset Name: Press Freedom Index\n",
    "  - Link to the dataset: https://data360.worldbank.org/en/dataset/RWB_PFI\n",
    "  - Number of observations: 135\n",
    "  - Number of variables: 23\n",
    "  - Descripton: The Corruption Perceptions Index (CPI) dataset ranks countries based on perceived levels of public sector corruption, using a score        from 0 to 100 where higher scores indicate cleaner governance. Each entry includes a country name, score, rank, and score change from the previous     year, all of which serve as proxies for transparency and institutional integrity. A time series component tracks score changes from 2012 to 2024,      enabling analysis of trends across different political and economic contexts. The data is derived from at least three expert and businessperson        surveys out of thirteen trusted sources, such as the World Bank. Preprocessing steps include converting scores and ranks to numeric types,             standardizing country names, handling missing values, and structuring the time series for longitudinal analysis.\n",
    "- Corruption Perception Index\n",
    "  - Dataset Name: Corruption Perception Index\n",
    "  - Link to the dataset: https://www.transparency.org/en/cpi/2024/index/dnk\n",
    "  - Number of observations: 236\n",
    "  - Number of variables: 23\n",
    "  - Descripton: The Corruption Perceptions Index (CPI) dataset ranks countries based on perceived levels of public sector corruption, using a score        from 0 to 100 where higher scores indicate cleaner governance. Each entry includes a country name, score, rank, and score change from the previous     year, all of which serve as proxies for transparency and institutional integrity. A time series component tracks score changes from 2012 to 2024,      enabling analysis of trends across different political and economic contexts. The data is derived from at least three expert and businessperson        surveys out of thirteen trusted sources, such as the World Bank. Preprocessing steps include converting scores and ranks to numeric types,             standardizing country names, handling missing values, and structuring the time series for longitudinal analysis.\n",
    "- FIFA Men's Ranking\n",
    "  - Dataset Name: FIFA Men's Ranking\n",
    "  - Link to the dataset: https://www.kaggle.com/datasets/cashncarry/fifaworldranking/code\n",
    "  - Number of observations: 198\n",
    "  - Number of variables: 23\n",
    "  - Descripton: The FIFA World Rankings dataset includes both men's and women's national football teams, ranked based on their total points calculated     from recent match results, tournament performance, and strength of opponents. Each entry contains key variables such as rank, team name, and total     points, which serve as proxies for competitive strength and consistency. The men's rankings are updated as of April 3, 2025, and the women's as of     March 6, 2025, offering a snapshot of current international standings. Cleaning the data requires dropping the statistics we are not analyzing and     only including men's rankings, and reshaping the data to make it a cleaner table. This dataset can be valuable for performance modeling, regional      comparisons, or assessing the impact of global tournaments on rankings. Cleaning the data requires dropping the statistics we are not analyzing        and only including men's rankings.\n",
    "- Gross Domestic Product (GDP) per capita\n",
    "  - Dataset Name: Per capita GDP at current prices - US dollars\n",
    "  - Link to the dataset: https://data.un.org/Data.aspx?d=SNAAMA&f=grID:101;currID:USD;pcFlag:1&c=2,3,5,6&s=_crEngNameOrderBy:asc,yr:desc&v=10\n",
    "  - Number of observations: 208\n",
    "  - Number of variables: 23\n",
    "  - Descripton: The World Bank GDP per capita dataset includes both a global time series from 1960 to 2023 and the most recent GDP per capita values       for individual countries. The key variables are year, country name, and GDP per capita, expressed in constant 2015 US dollars to account for           inflation and enable accurate comparisons over time. These metrics serve as proxies for average individual economic output and overall                 development, providing insight into both global growth trends and national income disparities. Preprocessing would involve converting values to        consistent numeric types, standardizing country names, handling missing data, and merging with population or regional indicators if needed.            Together, these datasets offer powerful tools for analyzing long-term economic progress and cross-country differences in living standards."
   ]
  },
  {
   "cell_type": "markdown",
   "metadata": {},
   "source": [
    "## Setup"
   ]
  },
  {
   "cell_type": "code",
   "execution_count": null,
   "metadata": {},
   "outputs": [],
   "source": [
    "import pandas as pd\n",
    "import numpy as np\n",
    "import seaborn as sns\n",
    "import matplotlib.pyplot as plt\n",
    "import plotly.express as px\n",
    "import plotly.io as pio\n",
    "from IPython.display import Image\n",
    "\n",
    "!pip install -U kaleido"
   ]
  },
  {
   "cell_type": "markdown",
   "metadata": {},
   "source": [
    "## Press Freedom Index"
   ]
  },
  {
   "cell_type": "code",
   "execution_count": null,
   "metadata": {},
   "outputs": [],
   "source": [
    "pfi_df = pd.read_csv('https://docs.google.com/spreadsheets/d/e/2PACX-1vS41D3NtnoEf1PPnL6QvQtfF1A2ucmUshNhO3lLyqQ4qxEvHbqW-yfV0Ai4Gy9pig/pub?gid=577435231&single=true&output=csv')\n",
    "pfi_df = pfi_df.drop(columns=['Attribute 1', 'Attribute 2', 'Attribute 3', 'Partner', 'Economy ISO3', 'Indicator ID', 'Indicator'])\n",
    "pfi_df = pfi_df.rename(columns={'Economy Name': 'Country'})\n",
    "pfi_df = pfi_df.rename(columns={'2011': 'PFI 2012', '2013' : 'PFI 2013', '2014' : 'PFI 2014', '2015' : 'PFI 2015', '2016' : 'PFI 2016', '2017' : 'PFI 2017', '2018' : 'PFI 2018', '2019' : 'PFI 2019', '2020' : 'PFI 2020', '2021' : 'PFI 2021', '2022' : 'PFI 2022', '2023' : 'PFI 2023'})\n",
    "pfi_df = pfi_df.iloc[1::2] \n",
    "pfi_df = pfi_df.dropna()\n",
    "pfi_df.set_index('Country', inplace=True)\n",
    "pfi_df = pfi_df.drop(columns=['2002', '2003', '2004', '2005', '2006', '2007','2008','2009','2010'])\n",
    "\n",
    "pfi_df"
   ]
  },
  {
   "cell_type": "markdown",
   "metadata": {},
   "source": [
    "## Corruption Perception Index"
   ]
  },
  {
   "cell_type": "code",
   "execution_count": null,
   "metadata": {},
   "outputs": [],
   "source": [
    "cpi12_23 = pd.read_csv('https://docs.google.com/spreadsheets/d/e/2PACX-1vRSOYW-Fr0cijSqRFgF6SNbfzZMb7YUgZUZbDRG0A56WM8S35x3bcB93bDziNmiWQ/pub?gid=708586988&single=true&output=csv')\n",
    "cpi12_23.columns = cpi12_23.iloc[2]\n",
    "cpi12_23 = cpi12_23.drop(index=[0, 1, 2])\n",
    "cpi12_23 = cpi12_23.rename(columns={\"Country / Territory\": \"country\"})\n",
    "cpi12_23 = cpi12_23.rename(columns={\n",
    "    'CPI Score 2012': 'CPI 2012',\n",
    "    'CPI Score 2013': 'CPI 2013',\n",
    "    'CPI score 2014': 'CPI 2014',\n",
    "    'CPI score 2015': 'CPI 2015',\n",
    "    'CPI score 2016': 'CPI 2016',\n",
    "    'CPI score 2017': 'CPI 2017',\n",
    "    'CPI score 2018': 'CPI 2018',\n",
    "    'CPI score 2019': 'CPI 2019',\n",
    "    'CPI score 2020': 'CPI 2020',\n",
    "    'CPI score 2021': 'CPI 2021',\n",
    "    'CPI score 2022': 'CPI 2022',\n",
    "    'CPI score 2023': 'CPI 2023'\n",
    "})\n",
    "cpi12_23 = cpi12_23.drop(cpi12_23.columns[[1,2,4,5,6,8,9,10,12,13,14,16,17,18,20,21,22,24,25,26,28,29,30,32,33,35,36,38,39,41,42,44,45]], axis=1)\n",
    "cpi12_23 = cpi12_23.reset_index(drop=True)\n",
    "cpi12_23 = cpi12_23.set_index('country')\n",
    "cpi12_23.dropna()\n",
    "cpi12_23 = cpi12_23[['CPI 2012', 'CPI 2013', 'CPI 2014', 'CPI 2015', 'CPI 2016', 'CPI 2017', 'CPI 2018', 'CPI 2019', 'CPI 2020', 'CPI 2021', 'CPI 2022', 'CPI 2023']]\n",
    "cpi12_23 = cpi12_23.apply(pd.to_numeric, errors='coerce')\n",
    "cpi12_23"
   ]
  },
  {
   "cell_type": "markdown",
   "metadata": {},
   "source": [
    "## FIFA Men's Ranking"
   ]
  },
  {
   "cell_type": "code",
   "execution_count": null,
   "metadata": {},
   "outputs": [],
   "source": [
    "fifa_rankings = pd.read_csv('https://docs.google.com/spreadsheets/d/e/2PACX-1vR1-ErfxE_SzHrtVCJC3IPzZdobPJHgxxhkEdz7Crn63LhcSQAXHnXUkeFl3tOFfd6P-ZPUef1hQyca/pub?gid=1330103511&single=true&output=csv')\n",
    "\n",
    "#filtering data\n",
    "fifa_rankings = fifa_rankings.drop(columns=['country_abrv', 'rank_change', 'total_points', 'confederation', 'previous_points'])\n",
    "dates_keep = ['2012-12-19', '2013-12-19', '2014-12-18', '2015-12-03', '2016-12-22', '2017-12-21', '2018-12-20', '2019-12-19', '2020-12-10', '2021-12-23', '2022-12-22', '2023-12-21']\n",
    "fifa_rankings= fifa_rankings[fifa_rankings['rank_date'].isin(dates_keep)]\n",
    "fifa_rankings = fifa_rankings.dropna(axis=1, how='all')\n",
    "\n",
    "#reshape data\n",
    "fifa_rankings['rank_date'] = pd.to_datetime(fifa_rankings['rank_date'])\n",
    "fifa_rankings['year'] = fifa_rankings['rank_date'].dt.year\n",
    "fifa_rankings = fifa_rankings.rename(columns={'country_full': 'country'})\n",
    "fifa_rankings = fifa_rankings.pivot(index='country', columns='year', values='rank')\n",
    "fifa_rankings = fifa_rankings.dropna()\n",
    "fifa_rankings.columns = fifa_rankings.columns.astype(str)\n",
    "fifa_rankings = fifa_rankings.rename(columns={\n",
    "    '2012': 'FIFA 2012',\n",
    "    '2013': 'FIFA 2013',\n",
    "    '2014': 'FIFA 2014',\n",
    "    '2015': 'FIFA 2015',\n",
    "    '2016': 'FIFA 2016',\n",
    "    '2017': 'FIFA 2017',\n",
    "    '2018': 'FIFA 2018',\n",
    "    '2019': 'FIFA 2019',\n",
    "    '2020': 'FIFA 2020',\n",
    "    '2021': 'FIFA 2021',\n",
    "    '2022': 'FIFA 2022',\n",
    "    '2023': 'FIFA 2023'\n",
    "})\n",
    "\n",
    "\n",
    "fifa_rankings"
   ]
  },
  {
   "cell_type": "markdown",
   "metadata": {},
   "source": [
    "## Gross Domestic Product (GDP) per capita"
   ]
  },
  {
   "cell_type": "code",
   "execution_count": null,
   "metadata": {},
   "outputs": [],
   "source": [
    "gdp = pd.read_csv('https://docs.google.com/spreadsheets/d/e/2PACX-1vSG40I-MQNxe6O_ehI61_2n46_KFFcf-EDvQJ-u2qkDgP5QdCeJ6R6LMUDkIuT-z8s6-35uoEftasB2/pub?gid=1210288409&single=true&output=csv')\n",
    "#filtering data\n",
    "gdp = gdp[(gdp['Year'] >= 2012) & (gdp['Year'] <= 2024)]\n",
    "gdp = gdp.drop(columns=['Item'])\n",
    "gdp = gdp.rename(columns={'Country or Area':'Country'})\n",
    "#reshape data\n",
    "gdp = gdp.pivot(index='Country',columns='Year',values='Value')\n",
    "gdp = gdp.dropna()\n",
    "gdp.columns = gdp.columns.astype(str)\n",
    "gdp = gdp.rename(columns={\n",
    "    '2012': 'GDP 2012',\n",
    "    '2013': 'GDP 2013',\n",
    "    '2014': 'GDP 2014',\n",
    "    '2015': 'GDP 2015',\n",
    "    '2016': 'GDP 2016',\n",
    "    '2017': 'GDP 2017',\n",
    "    '2018': 'GDP 2018',\n",
    "    '2019': 'GDP 2019',\n",
    "    '2020': 'GDP 2020',\n",
    "    '2021': 'GDP 2021',\n",
    "    '2022': 'GDP 2022',\n",
    "    '2023': 'GDP 2023'\n",
    "})\n",
    "gdp_cols = [col for col in gdp.columns if 'GDP' in col]\n",
    "gdp[gdp_cols] = gdp[gdp_cols] / 1000\n",
    "gdp"
   ]
  },
  {
   "cell_type": "markdown",
   "metadata": {},
   "source": [
    "# Data Wrangling"
   ]
  },
  {
   "cell_type": "markdown",
   "metadata": {},
   "source": [
    "### Concatted Datasets"
   ]
  },
  {
   "cell_type": "code",
   "execution_count": null,
   "metadata": {},
   "outputs": [],
   "source": [
    "#PFI Country Cleaning\n",
    "df = pd.concat([pfi_df, cpi12_23, fifa_rankings, gdp], axis=1)\n",
    "df = df.dropna()\n",
    "df"
   ]
  },
  {
   "cell_type": "markdown",
   "metadata": {},
   "source": [
    "### PFI Subset"
   ]
  },
  {
   "cell_type": "code",
   "execution_count": null,
   "metadata": {},
   "outputs": [],
   "source": [
    "pfi = df.iloc[:, 0:12]\n",
    "pfi"
   ]
  },
  {
   "cell_type": "markdown",
   "metadata": {},
   "source": [
    "### CPI Subset"
   ]
  },
  {
   "cell_type": "code",
   "execution_count": null,
   "metadata": {},
   "outputs": [],
   "source": [
    "cpi = df.iloc[:, 12:24]\n",
    "cpi"
   ]
  },
  {
   "cell_type": "markdown",
   "metadata": {},
   "source": [
    "### FIFA Subset"
   ]
  },
  {
   "cell_type": "code",
   "execution_count": null,
   "metadata": {},
   "outputs": [],
   "source": [
    "fifa = df.iloc[:, 24:36]\n",
    "fifa"
   ]
  },
  {
   "cell_type": "markdown",
   "metadata": {},
   "source": [
    "### GDP Subset"
   ]
  },
  {
   "cell_type": "code",
   "execution_count": null,
   "metadata": {},
   "outputs": [],
   "source": [
    "gdp = df.iloc[:, 36:]\n",
    "gdp"
   ]
  },
  {
   "cell_type": "markdown",
   "metadata": {},
   "source": [
    "# Results\n",
    "\n",
    "## Exploratory Data Analysis\n",
    "\n",
    "Carry out whatever EDA you need to for your project.  Because every project will be different we can't really give you much of a template at this point. But please make sure you describe the what and why in text here as well as providing interpretation of results and context."
   ]
  },
  {
   "cell_type": "markdown",
   "metadata": {},
   "source": [
    "## Aggerate Across Years"
   ]
  },
  {
   "cell_type": "code",
   "execution_count": null,
   "metadata": {},
   "outputs": [],
   "source": [
    "avg = pfi.mean(axis=1)\n",
    "pfi_avg = pd.DataFrame({'Average PFI' : avg})\n",
    "\n",
    "avg = cpi.mean(axis=1)\n",
    "cpi_avg = pd.DataFrame({'Average CPI' : avg})\n",
    "\n",
    "avg = fifa.mean(axis=1)\n",
    "fifa_avg = pd.DataFrame({'Average FIFA' : avg})\n",
    "\n",
    "avg = gdp.mean(axis=1)\n",
    "gdp_avg = pd.DataFrame({'Average GDP' : avg})\n",
    "\n",
    "df_avg = pd.concat([pfi_avg, cpi_avg, fifa_avg, gdp_avg], axis=1)\n",
    "df_avg"
   ]
  },
  {
   "cell_type": "markdown",
   "metadata": {},
   "source": [
    "### Top 5 and Bottom 5 Countries in CPI Overtime"
   ]
  },
  {
   "cell_type": "code",
   "execution_count": null,
   "metadata": {},
   "outputs": [],
   "source": [
    "sorted_countries = cpi_avg.sort_values('Average CPI', ascending=False)\n",
    "selected_countries = sorted_countries.head(5).index.tolist() + sorted_countries.tail(5).index.tolist()\n",
    "sorted_cpi = df[df.index.isin(selected_countries)]\n",
    "sorted_cpi"
   ]
  },
  {
   "cell_type": "markdown",
   "metadata": {},
   "source": [
    "### Top 5 and Bottom 5 Countries in FIFA Overtime"
   ]
  },
  {
   "cell_type": "code",
   "execution_count": null,
   "metadata": {},
   "outputs": [],
   "source": [
    "sorted_countries = fifa_avg.sort_values('Average FIFA', ascending=False)\n",
    "selected_countries = sorted_countries.head(5).index.tolist() + sorted_countries.tail(5).index.tolist()\n",
    "sorted_fifa = df[df.index.isin(selected_countries)]\n",
    "sorted_fifa"
   ]
  },
  {
   "cell_type": "markdown",
   "metadata": {},
   "source": [
    "### Analysis of Averages of Data Across Years 2012-2023\n",
    "\n",
    "Description here"
   ]
  },
  {
   "cell_type": "code",
   "execution_count": null,
   "metadata": {},
   "outputs": [],
   "source": [
    "fig = pd.plotting.scatter_matrix(df_avg[['Average PFI','Average CPI','Average FIFA', 'Average GDP']], figsize=(12,5))"
   ]
  },
  {
   "cell_type": "markdown",
   "metadata": {},
   "source": [
    "Analysis: Asaki"
   ]
  },
  {
   "cell_type": "markdown",
   "metadata": {},
   "source": [
    "### Averages of Data Correlation Heatmap"
   ]
  },
  {
   "cell_type": "code",
   "execution_count": null,
   "metadata": {},
   "outputs": [],
   "source": [
    "sns.heatmap(df_avg[['Average CPI', 'Average PFI', 'Average FIFA', 'Average GDP']].corr(), \n",
    "            annot=True, cmap='coolwarm')\n",
    "plt.title('Correlation Heatmap')\n",
    "plt.show()"
   ]
  },
  {
   "cell_type": "markdown",
   "metadata": {},
   "source": [
    "Analysis: Asaki"
   ]
  },
  {
   "cell_type": "markdown",
   "metadata": {},
   "source": [
    "### Lineplots Over Time for Countries with the 5 Best and Worst FIFA Rankings and Corruption Score\n",
    "\n",
    "Some more words and stuff.  Remember notebooks work best if you interleave the code that generates a result with properly annotate figures and text that puts these results into context."
   ]
  },
  {
   "cell_type": "code",
   "execution_count": null,
   "metadata": {},
   "outputs": [],
   "source": [
    "def make_lineplot(country, df, ax):\n",
    "    years = list(range(2012, 2024))\n",
    "    \n",
    "    pfi_cols = [f'PFI {year}' for year in years]\n",
    "    fifa_cols = [f'FIFA {year}' for year in years]\n",
    "    cpi_cols = [f'CPI {year}' for year in years]\n",
    "    gdp_cols = [f'GDP {year}' for year in years]\n",
    "\n",
    "    pfi = df.loc[country, pfi_cols]\n",
    "    fifa = df.loc[country, fifa_cols]\n",
    "    cpi = df.loc[country, cpi_cols]\n",
    "    gdp = df.loc[country, gdp_cols]\n",
    "\n",
    "    ax.plot(years, pfi, label='PFI', marker='o')\n",
    "    ax.plot(years, fifa, label='FIFA Ranking', marker='o')\n",
    "    ax.plot(years, cpi, label='CPI', marker='o')\n",
    "    ax.plot(years, gdp, label='GDP', marker='o')\n",
    "\n",
    "    ax.set_title(f'{country} - Indicators Over Time', fontsize=12)\n",
    "    ax.set_xlabel('Year')\n",
    "    ax.set_ylabel('Value')\n",
    "    ax.grid(True)\n",
    "    ax.set_xticks(years)\n",
    "    ax.legend(fontsize=8)"
   ]
  },
  {
   "cell_type": "markdown",
   "metadata": {
    "slideshow": {
     "slide_type": "slide"
    }
   },
   "source": [
    "#### **Top 5 Countries in FIFA Rankings**"
   ]
  },
  {
   "cell_type": "code",
   "execution_count": null,
   "metadata": {},
   "outputs": [],
   "source": [
    "#Top 5 Countries FIFA Rankings\n",
    "countries = ['Argentina', 'Belgium', 'Brazil', 'Spain', 'Portugal']\n",
    "fig, axes = plt.subplots(1, 5, figsize=(25, 5))\n",
    "for i, country in enumerate(countries):\n",
    "    make_lineplot(country, df, axes[i])\n",
    "\n",
    "plt.tight_layout()\n",
    "plt.show()"
   ]
  },
  {
   "cell_type": "markdown",
   "metadata": {},
   "source": [
    "Analysis: Mohammed"
   ]
  },
  {
   "cell_type": "markdown",
   "metadata": {},
   "source": [
    "#### **Bottom 5 Countries in FIFA Rankings**"
   ]
  },
  {
   "cell_type": "code",
   "execution_count": null,
   "metadata": {},
   "outputs": [],
   "source": [
    "#Bottom 5 Countries FIFA Rankings\n",
    "countries = ['Bhutan', 'Djibouti', 'Sri Lanka', 'Mongolia', 'Pakistan']\n",
    "fig, axes = plt.subplots(1, 5, figsize=(25, 5))\n",
    "for i, country in enumerate(countries):\n",
    "    make_lineplot(country, df, axes[i])\n",
    "\n",
    "plt.tight_layout()\n",
    "plt.show()"
   ]
  },
  {
   "cell_type": "markdown",
   "metadata": {},
   "source": [
    "Analysis: Mohammed"
   ]
  },
  {
   "cell_type": "markdown",
   "metadata": {},
   "source": [
    "#### **Top 5 Countries in Corruption Scores**"
   ]
  },
  {
   "cell_type": "code",
   "execution_count": null,
   "metadata": {},
   "outputs": [],
   "source": [
    "#Most corrupt countries\n",
    "countries = ['Afghanistan', 'Haiti', 'Libya', 'Sudan', 'Turkmenistan']\n",
    "fig, axes = plt.subplots(1, 5, figsize=(25, 5))\n",
    "for i, country in enumerate(countries):\n",
    "    make_lineplot(country, df, axes[i])\n",
    "\n",
    "plt.tight_layout()\n",
    "plt.show()"
   ]
  },
  {
   "cell_type": "markdown",
   "metadata": {},
   "source": [
    "Analysis: Makeil"
   ]
  },
  {
   "cell_type": "markdown",
   "metadata": {},
   "source": [
    "#### **Bottom 5 Countries in Corruption Scores**"
   ]
  },
  {
   "cell_type": "code",
   "execution_count": null,
   "metadata": {},
   "outputs": [],
   "source": [
    "#Least corrupt countries\n",
    "countries = ['Switzerland', 'Denmark', 'Finland', 'Norway', 'Sweden']\n",
    "fig, axes = plt.subplots(1, 5, figsize=(25, 5))\n",
    "for i, country in enumerate(countries):\n",
    "    make_lineplot(country, df, axes[i])\n",
    "\n",
    "plt.tight_layout()\n",
    "plt.show()"
   ]
  },
  {
   "cell_type": "markdown",
   "metadata": {},
   "source": [
    "Analysis: Makeil"
   ]
  },
  {
   "cell_type": "markdown",
   "metadata": {},
   "source": [
    "### Map of Average CPI"
   ]
  },
  {
   "cell_type": "code",
   "execution_count": null,
   "metadata": {},
   "outputs": [],
   "source": [
    "choropleth_df = df_avg.reset_index()\n",
    "\n",
    "fig = px.choropleth(\n",
    "    choropleth_df,\n",
    "    locations='index',\n",
    "    locationmode='country names',\n",
    "    color='Average CPI',\n",
    "    color_continuous_scale='Reds',\n",
    "    title='Choropleth Map of Average CPI (2012–2023)',\n",
    "    width=1000,\n",
    "    height=600\n",
    ")\n",
    "\n",
    "fig.write_image(\"choromapCPI.png\")\n",
    "Image(filename=\"choromapCPI.png\")"
   ]
  },
  {
   "cell_type": "markdown",
   "metadata": {},
   "source": [
    "Analysis: Adey"
   ]
  },
  {
   "cell_type": "markdown",
   "metadata": {},
   "source": [
    "### Map of Average FIFA"
   ]
  },
  {
   "cell_type": "code",
   "execution_count": null,
   "metadata": {},
   "outputs": [],
   "source": [
    "fig = px.choropleth(\n",
    "    choropleth_df,\n",
    "    locations='index',\n",
    "    locationmode='country names',\n",
    "    color='Average FIFA',\n",
    "    color_continuous_scale='Blues',\n",
    "    title='Choropleth Map of Average FIFA (2012–2023)',\n",
    "    width=1000,\n",
    "    height=600\n",
    ")\n",
    "\n",
    "fig.write_image(\"choromapFIFA.png\")\n",
    "Image(filename=\"choromapFIFA.png\")"
   ]
  },
  {
   "cell_type": "markdown",
   "metadata": {},
   "source": [
    "Analysis: Adey"
   ]
  },
  {
   "cell_type": "markdown",
   "metadata": {},
   "source": [
    "### Clusters of Countries by CPI and FIFA"
   ]
  },
  {
   "cell_type": "code",
   "execution_count": null,
   "metadata": {},
   "outputs": [],
   "source": [
    "from sklearn.preprocessing import StandardScaler\n",
    "from sklearn.cluster import KMeans\n",
    "import plotly.express as px\n",
    "\n",
    "# Select relevant features\n",
    "X = choropleth_df[['Average CPI', 'Average PFI', 'Average FIFA', 'Average GDP']]\n",
    "\n",
    "# Normalize\n",
    "scaler = StandardScaler()\n",
    "X_scaled = scaler.fit_transform(X)\n",
    "\n",
    "# Apply KMeans clustering\n",
    "kmeans = KMeans(n_clusters=3, random_state=42)\n",
    "choropleth_df['Cluster'] = kmeans.fit_predict(X_scaled)\n",
    "\n",
    "# Visualize\n",
    "fig = px.scatter(\n",
    "    choropleth_df,\n",
    "    x='Average CPI',\n",
    "    y='Average FIFA',\n",
    "    color='Cluster',\n",
    "    hover_name='index',\n",
    "    title='Clusters of Countries by CPI and FIFA'\n",
    ")\n",
    "#fig.show()\n",
    "fig.write_image(\"cluster_plot.png\")\n",
    "Image(filename=\"cluster_plot.png\")"
   ]
  },
  {
   "cell_type": "markdown",
   "metadata": {},
   "source": [
    "Analysis: Ayat"
   ]
  },
  {
   "cell_type": "markdown",
   "metadata": {},
   "source": [
    "# Ethics & Privacy"
   ]
  },
  {
   "cell_type": "markdown",
   "metadata": {},
   "source": [
    "For our project, we plan to use data directly from FIFA, which should make our information more trustworthy since it's from the main organization we're studying. However, for things like World Cup performance stats from Wikipedia, we know that Wikipedia can be edited by anyone, so we need to be careful. We’ll try to find where that data originally came from and consider using more official sources instead. When it comes to data about corruption in different countries. Some countries might report lower corruption levels to make themselves look better. For that reason, we’ll try to use independent and trusted organizations, like Transparency International, rather than just government websites. We’ll also be clear about where the data comes from and what the possible problems with it are. Even if we use good sources, our data might still have bias. For example, if we only include countries that have complete data and leave out others, we could end up with an unfair picture, which would be selection bias. It could lead to people wrongly thinking that certain countries are worse or more corrupt just because of how the data was collected. To prevent that, we’ll try to include as many countries as possible, explain any gaps in our data, and remind people that correlation doesn’t mean one thing causes another. If our project becomes popular or widely shared, there’s a risk that people might misunderstand or misuse our findings. To prevent that, we’ll make sure to include clear explanations of what our data does and does not show. We’ll also add disclaimers to help people use our findings responsibly and not jump to unfair conclusions."
   ]
  },
  {
   "cell_type": "markdown",
   "metadata": {},
   "source": [
    "# Team Expectations "
   ]
  },
  {
   "cell_type": "markdown",
   "metadata": {},
   "source": [
    "- Primary mode of communication with be through text message\n",
    "- Everyone is responsible for completing their assigned tasks\n",
    "- If a team member doesn’t think they will get their task done on time or if there is some sort of conflict they will communicate the rest of the team as soon as possible\n",
    "- Everyone should attend all meetings unless communicated otherwise from before\n",
    "- Everyone should use credible sources and not make up any information used in the project.\n",
    "- Try and follow the timeline to their best ability so we don't fall behind"
   ]
  },
  {
   "cell_type": "markdown",
   "metadata": {},
   "source": [
    "# Project Timeline Proposal"
   ]
  },
  {
   "cell_type": "markdown",
   "metadata": {},
   "source": [
    "| Meeting Date  | Meeting Time| Completed Before Meeting  | Discuss at Meeting |\n",
    "|---|---|---|---|\n",
    "| 4/29  |  10 AM  | Brainstorm project ideas for project proposal  | Finalize project topic (corruption & football); assign roles for project proposal | \n",
    "| 4/30  |  11 AM  |  Background research; gather examples of corruption in football & policy | Discuss hypothesis, ethical concerns, and ideal dataset structure; submit proposal | \n",
    "| 5/5  | 2 PM  | Begin data wrangling (CPI, PFI, FIFA, World Cup, GDP); clean & align formats  | Review merged data; draft EDA visuals; plan modeling approach   |\n",
    "| 5/14  | 10 AM  | Finish wrangling | Review wrangling; submit checkpoint; discuss EDA further   |\n",
    "| 5/27  | 12 PM  | Work on data analysis | Review analysis; submit checkpoint |\n",
    "| 6/8  | 12 PM  | Draft results, conclusions, and discussion sections | Review sections; draft video and record |\n",
    "| 6/13  | Before 11:59 PM  | Final edits and proofreading | Submit final project and video, complete group project surveys and post-course survey |"
   ]
  }
 ],
 "metadata": {
  "kernelspec": {
   "display_name": "Python 3 (ipykernel)",
   "language": "python",
   "name": "python3"
  },
  "language_info": {
   "codemirror_mode": {
    "name": "ipython",
    "version": 3
   },
   "file_extension": ".py",
   "mimetype": "text/x-python",
   "name": "python",
   "nbconvert_exporter": "python",
   "pygments_lexer": "ipython3",
   "version": "3.11.9"
  }
 },
 "nbformat": 4,
 "nbformat_minor": 4
}
